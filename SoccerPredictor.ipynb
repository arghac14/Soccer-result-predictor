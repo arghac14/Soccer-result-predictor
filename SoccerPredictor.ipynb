{
  "nbformat": 4,
  "nbformat_minor": 0,
  "metadata": {
    "colab": {
      "name": "SoccerPredictor.ipynb",
      "version": "0.3.2",
      "provenance": [],
      "collapsed_sections": [],
      "include_colab_link": true
    },
    "kernelspec": {
      "name": "python3",
      "display_name": "Python 3"
    },
    "accelerator": "GPU"
  },
  "cells": [
    {
      "cell_type": "markdown",
      "metadata": {
        "id": "view-in-github",
        "colab_type": "text"
      },
      "source": [
        "<a href=\"https://colab.research.google.com/github/arghac14/Soccer-result-predictor/blob/master/SoccerPredictor.ipynb\" target=\"_parent\"><img src=\"https://colab.research.google.com/assets/colab-badge.svg\" alt=\"Open In Colab\"/></a>"
      ]
    },
    {
      "cell_type": "code",
      "metadata": {
        "id": "8MrfYTpWRnbD",
        "colab_type": "code",
        "colab": {}
      },
      "source": [
        "import pandas as pd\n",
        "import numpy as np\n",
        "import matplotlib.pyplot as plt\n",
        "%matplotlib inline"
      ],
      "execution_count": 0,
      "outputs": []
    },
    {
      "cell_type": "code",
      "metadata": {
        "id": "i-oRIsAnStR2",
        "colab_type": "code",
        "outputId": "09ce1cc2-a260-471e-d8b1-dde663673c8f",
        "colab": {
          "resources": {
            "http://localhost:8080/nbextensions/google.colab/files.js": {
              "data": "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",
              "ok": true,
              "headers": [
                [
                  "content-type",
                  "application/javascript"
                ]
              ],
              "status": 200,
              "status_text": ""
            }
          },
          "base_uri": "https://localhost:8080/",
          "height": 74
        }
      },
      "source": [
        "import io\n",
        "from google.colab import files\n",
        "uploaded=files.upload()"
      ],
      "execution_count": 8,
      "outputs": [
        {
          "output_type": "display_data",
          "data": {
            "text/html": [
              "\n",
              "     <input type=\"file\" id=\"files-525ac3e8-76db-4ba3-95f1-83473c7c517d\" name=\"files[]\" multiple disabled />\n",
              "     <output id=\"result-525ac3e8-76db-4ba3-95f1-83473c7c517d\">\n",
              "      Upload widget is only available when the cell has been executed in the\n",
              "      current browser session. Please rerun this cell to enable.\n",
              "      </output>\n",
              "      <script src=\"/nbextensions/google.colab/files.js\"></script> "
            ],
            "text/plain": [
              "<IPython.core.display.HTML object>"
            ]
          },
          "metadata": {
            "tags": []
          }
        },
        {
          "output_type": "stream",
          "text": [
            "Saving soccer_international_history_dataset.csv to soccer_international_history_dataset (1).csv\n"
          ],
          "name": "stdout"
        }
      ]
    },
    {
      "cell_type": "code",
      "metadata": {
        "id": "Rct6D1dfTPLp",
        "colab_type": "code",
        "colab": {}
      },
      "source": [
        "df=pd.read_csv(io.BytesIO(uploaded['soccer_international_history_dataset.csv']))\n",
        "df.head()\n",
        "df=df.head(2500)"
      ],
      "execution_count": 0,
      "outputs": []
    },
    {
      "cell_type": "code",
      "metadata": {
        "id": "a4Ef4EmRTPKP",
        "colab_type": "code",
        "outputId": "2fd85569-b2a0-49fa-ed16-32190981119c",
        "colab": {
          "base_uri": "https://localhost:8080/",
          "height": 296
        }
      },
      "source": [
        "# Getting dummy datas\n",
        "\n",
        "homeCountry=pd.get_dummies(df.home_country)\n",
        "awayCountry=pd.get_dummies(df.away_country)\n",
        "homeScore=pd.get_dummies(df.home_score)\n",
        "awayScore=pd.get_dummies(df.away_score)\n",
        "matchType=pd.get_dummies(df.match_type)\n",
        "matchCountry=pd.get_dummies(df.match_type)\n",
        "\n",
        "\n",
        "result=df.home_team_result.replace(to_replace =\"Win\", \n",
        "                 value =1) \n",
        "result=result.replace(to_replace =\"Loss\", \n",
        "                 value =0) \n",
        "result=result.replace(to_replace =\"Draw\", \n",
        "                 value =2) \n",
        "\n",
        "df=pd.concat([homeCountry, awayCountry, homeScore, awayScore, matchType, matchCountry, result ], axis=1)\n",
        "df.head()"
      ],
      "execution_count": 46,
      "outputs": [
        {
          "output_type": "execute_result",
          "data": {
            "text/html": [
              "<div>\n",
              "<style scoped>\n",
              "    .dataframe tbody tr th:only-of-type {\n",
              "        vertical-align: middle;\n",
              "    }\n",
              "\n",
              "    .dataframe tbody tr th {\n",
              "        vertical-align: top;\n",
              "    }\n",
              "\n",
              "    .dataframe thead th {\n",
              "        text-align: right;\n",
              "    }\n",
              "</style>\n",
              "<table border=\"1\" class=\"dataframe\">\n",
              "  <thead>\n",
              "    <tr style=\"text-align: right;\">\n",
              "      <th></th>\n",
              "      <th>Afghanistan</th>\n",
              "      <th>Argentina</th>\n",
              "      <th>Aruba</th>\n",
              "      <th>Australia</th>\n",
              "      <th>Austria</th>\n",
              "      <th>Barbados</th>\n",
              "      <th>Belarus</th>\n",
              "      <th>Belgium</th>\n",
              "      <th>Bolivia</th>\n",
              "      <th>Brazil</th>\n",
              "      <th>Bulgaria</th>\n",
              "      <th>Canada</th>\n",
              "      <th>Chile</th>\n",
              "      <th>China</th>\n",
              "      <th>Colombia</th>\n",
              "      <th>Costa Rica</th>\n",
              "      <th>Croatia</th>\n",
              "      <th>Cuba</th>\n",
              "      <th>Curaçao</th>\n",
              "      <th>Czechoslovakia</th>\n",
              "      <th>Denmark</th>\n",
              "      <th>Dominica</th>\n",
              "      <th>Ecuador</th>\n",
              "      <th>Egypt</th>\n",
              "      <th>El Salvador</th>\n",
              "      <th>England</th>\n",
              "      <th>Estonia</th>\n",
              "      <th>Finland</th>\n",
              "      <th>France</th>\n",
              "      <th>French Guyana</th>\n",
              "      <th>Germany</th>\n",
              "      <th>Greece</th>\n",
              "      <th>Guadeloupe</th>\n",
              "      <th>Guatemala</th>\n",
              "      <th>Guyana</th>\n",
              "      <th>Haiti</th>\n",
              "      <th>Honduras</th>\n",
              "      <th>Hungary</th>\n",
              "      <th>India</th>\n",
              "      <th>Ireland</th>\n",
              "      <th>...</th>\n",
              "      <th>10</th>\n",
              "      <th>11</th>\n",
              "      <th>12</th>\n",
              "      <th>13</th>\n",
              "      <th>15</th>\n",
              "      <th>Balkan Cup</th>\n",
              "      <th>Baltic Cup</th>\n",
              "      <th>British Championship</th>\n",
              "      <th>CCCF Championship</th>\n",
              "      <th>Copa América</th>\n",
              "      <th>Copa Chevallier Boutell</th>\n",
              "      <th>Copa Lipton</th>\n",
              "      <th>Copa Newton</th>\n",
              "      <th>Copa Premio Honor Argentino</th>\n",
              "      <th>Copa Premio Honor Uruguayo</th>\n",
              "      <th>Copa Rio Branco</th>\n",
              "      <th>Copa Roca</th>\n",
              "      <th>FIFA World Cup</th>\n",
              "      <th>FIFA World Cup qualification</th>\n",
              "      <th>Friendly</th>\n",
              "      <th>International Cup</th>\n",
              "      <th>Nordic Championship</th>\n",
              "      <th>Balkan Cup</th>\n",
              "      <th>Baltic Cup</th>\n",
              "      <th>British Championship</th>\n",
              "      <th>CCCF Championship</th>\n",
              "      <th>Copa América</th>\n",
              "      <th>Copa Chevallier Boutell</th>\n",
              "      <th>Copa Lipton</th>\n",
              "      <th>Copa Newton</th>\n",
              "      <th>Copa Premio Honor Argentino</th>\n",
              "      <th>Copa Premio Honor Uruguayo</th>\n",
              "      <th>Copa Rio Branco</th>\n",
              "      <th>Copa Roca</th>\n",
              "      <th>FIFA World Cup</th>\n",
              "      <th>FIFA World Cup qualification</th>\n",
              "      <th>Friendly</th>\n",
              "      <th>International Cup</th>\n",
              "      <th>Nordic Championship</th>\n",
              "      <th>home_team_result</th>\n",
              "    </tr>\n",
              "  </thead>\n",
              "  <tbody>\n",
              "    <tr>\n",
              "      <th>0</th>\n",
              "      <td>0</td>\n",
              "      <td>0</td>\n",
              "      <td>0</td>\n",
              "      <td>0</td>\n",
              "      <td>0</td>\n",
              "      <td>0</td>\n",
              "      <td>0</td>\n",
              "      <td>0</td>\n",
              "      <td>0</td>\n",
              "      <td>0</td>\n",
              "      <td>0</td>\n",
              "      <td>0</td>\n",
              "      <td>0</td>\n",
              "      <td>0</td>\n",
              "      <td>0</td>\n",
              "      <td>0</td>\n",
              "      <td>0</td>\n",
              "      <td>0</td>\n",
              "      <td>0</td>\n",
              "      <td>0</td>\n",
              "      <td>0</td>\n",
              "      <td>0</td>\n",
              "      <td>0</td>\n",
              "      <td>0</td>\n",
              "      <td>0</td>\n",
              "      <td>0</td>\n",
              "      <td>0</td>\n",
              "      <td>0</td>\n",
              "      <td>0</td>\n",
              "      <td>0</td>\n",
              "      <td>0</td>\n",
              "      <td>0</td>\n",
              "      <td>0</td>\n",
              "      <td>0</td>\n",
              "      <td>0</td>\n",
              "      <td>0</td>\n",
              "      <td>0</td>\n",
              "      <td>0</td>\n",
              "      <td>0</td>\n",
              "      <td>0</td>\n",
              "      <td>...</td>\n",
              "      <td>0</td>\n",
              "      <td>0</td>\n",
              "      <td>0</td>\n",
              "      <td>0</td>\n",
              "      <td>0</td>\n",
              "      <td>0</td>\n",
              "      <td>0</td>\n",
              "      <td>0</td>\n",
              "      <td>0</td>\n",
              "      <td>0</td>\n",
              "      <td>0</td>\n",
              "      <td>0</td>\n",
              "      <td>0</td>\n",
              "      <td>0</td>\n",
              "      <td>0</td>\n",
              "      <td>0</td>\n",
              "      <td>0</td>\n",
              "      <td>0</td>\n",
              "      <td>0</td>\n",
              "      <td>1</td>\n",
              "      <td>0</td>\n",
              "      <td>0</td>\n",
              "      <td>0</td>\n",
              "      <td>0</td>\n",
              "      <td>0</td>\n",
              "      <td>0</td>\n",
              "      <td>0</td>\n",
              "      <td>0</td>\n",
              "      <td>0</td>\n",
              "      <td>0</td>\n",
              "      <td>0</td>\n",
              "      <td>0</td>\n",
              "      <td>0</td>\n",
              "      <td>0</td>\n",
              "      <td>0</td>\n",
              "      <td>0</td>\n",
              "      <td>1</td>\n",
              "      <td>0</td>\n",
              "      <td>0</td>\n",
              "      <td>2</td>\n",
              "    </tr>\n",
              "    <tr>\n",
              "      <th>1</th>\n",
              "      <td>0</td>\n",
              "      <td>0</td>\n",
              "      <td>0</td>\n",
              "      <td>0</td>\n",
              "      <td>0</td>\n",
              "      <td>0</td>\n",
              "      <td>0</td>\n",
              "      <td>0</td>\n",
              "      <td>0</td>\n",
              "      <td>0</td>\n",
              "      <td>0</td>\n",
              "      <td>0</td>\n",
              "      <td>0</td>\n",
              "      <td>0</td>\n",
              "      <td>0</td>\n",
              "      <td>0</td>\n",
              "      <td>0</td>\n",
              "      <td>0</td>\n",
              "      <td>0</td>\n",
              "      <td>0</td>\n",
              "      <td>0</td>\n",
              "      <td>0</td>\n",
              "      <td>0</td>\n",
              "      <td>0</td>\n",
              "      <td>0</td>\n",
              "      <td>1</td>\n",
              "      <td>0</td>\n",
              "      <td>0</td>\n",
              "      <td>0</td>\n",
              "      <td>0</td>\n",
              "      <td>0</td>\n",
              "      <td>0</td>\n",
              "      <td>0</td>\n",
              "      <td>0</td>\n",
              "      <td>0</td>\n",
              "      <td>0</td>\n",
              "      <td>0</td>\n",
              "      <td>0</td>\n",
              "      <td>0</td>\n",
              "      <td>0</td>\n",
              "      <td>...</td>\n",
              "      <td>0</td>\n",
              "      <td>0</td>\n",
              "      <td>0</td>\n",
              "      <td>0</td>\n",
              "      <td>0</td>\n",
              "      <td>0</td>\n",
              "      <td>0</td>\n",
              "      <td>0</td>\n",
              "      <td>0</td>\n",
              "      <td>0</td>\n",
              "      <td>0</td>\n",
              "      <td>0</td>\n",
              "      <td>0</td>\n",
              "      <td>0</td>\n",
              "      <td>0</td>\n",
              "      <td>0</td>\n",
              "      <td>0</td>\n",
              "      <td>0</td>\n",
              "      <td>0</td>\n",
              "      <td>1</td>\n",
              "      <td>0</td>\n",
              "      <td>0</td>\n",
              "      <td>0</td>\n",
              "      <td>0</td>\n",
              "      <td>0</td>\n",
              "      <td>0</td>\n",
              "      <td>0</td>\n",
              "      <td>0</td>\n",
              "      <td>0</td>\n",
              "      <td>0</td>\n",
              "      <td>0</td>\n",
              "      <td>0</td>\n",
              "      <td>0</td>\n",
              "      <td>0</td>\n",
              "      <td>0</td>\n",
              "      <td>0</td>\n",
              "      <td>1</td>\n",
              "      <td>0</td>\n",
              "      <td>0</td>\n",
              "      <td>1</td>\n",
              "    </tr>\n",
              "    <tr>\n",
              "      <th>2</th>\n",
              "      <td>0</td>\n",
              "      <td>0</td>\n",
              "      <td>0</td>\n",
              "      <td>0</td>\n",
              "      <td>0</td>\n",
              "      <td>0</td>\n",
              "      <td>0</td>\n",
              "      <td>0</td>\n",
              "      <td>0</td>\n",
              "      <td>0</td>\n",
              "      <td>0</td>\n",
              "      <td>0</td>\n",
              "      <td>0</td>\n",
              "      <td>0</td>\n",
              "      <td>0</td>\n",
              "      <td>0</td>\n",
              "      <td>0</td>\n",
              "      <td>0</td>\n",
              "      <td>0</td>\n",
              "      <td>0</td>\n",
              "      <td>0</td>\n",
              "      <td>0</td>\n",
              "      <td>0</td>\n",
              "      <td>0</td>\n",
              "      <td>0</td>\n",
              "      <td>0</td>\n",
              "      <td>0</td>\n",
              "      <td>0</td>\n",
              "      <td>0</td>\n",
              "      <td>0</td>\n",
              "      <td>0</td>\n",
              "      <td>0</td>\n",
              "      <td>0</td>\n",
              "      <td>0</td>\n",
              "      <td>0</td>\n",
              "      <td>0</td>\n",
              "      <td>0</td>\n",
              "      <td>0</td>\n",
              "      <td>0</td>\n",
              "      <td>0</td>\n",
              "      <td>...</td>\n",
              "      <td>0</td>\n",
              "      <td>0</td>\n",
              "      <td>0</td>\n",
              "      <td>0</td>\n",
              "      <td>0</td>\n",
              "      <td>0</td>\n",
              "      <td>0</td>\n",
              "      <td>0</td>\n",
              "      <td>0</td>\n",
              "      <td>0</td>\n",
              "      <td>0</td>\n",
              "      <td>0</td>\n",
              "      <td>0</td>\n",
              "      <td>0</td>\n",
              "      <td>0</td>\n",
              "      <td>0</td>\n",
              "      <td>0</td>\n",
              "      <td>0</td>\n",
              "      <td>0</td>\n",
              "      <td>1</td>\n",
              "      <td>0</td>\n",
              "      <td>0</td>\n",
              "      <td>0</td>\n",
              "      <td>0</td>\n",
              "      <td>0</td>\n",
              "      <td>0</td>\n",
              "      <td>0</td>\n",
              "      <td>0</td>\n",
              "      <td>0</td>\n",
              "      <td>0</td>\n",
              "      <td>0</td>\n",
              "      <td>0</td>\n",
              "      <td>0</td>\n",
              "      <td>0</td>\n",
              "      <td>0</td>\n",
              "      <td>0</td>\n",
              "      <td>1</td>\n",
              "      <td>0</td>\n",
              "      <td>0</td>\n",
              "      <td>1</td>\n",
              "    </tr>\n",
              "    <tr>\n",
              "      <th>3</th>\n",
              "      <td>0</td>\n",
              "      <td>0</td>\n",
              "      <td>0</td>\n",
              "      <td>0</td>\n",
              "      <td>0</td>\n",
              "      <td>0</td>\n",
              "      <td>0</td>\n",
              "      <td>0</td>\n",
              "      <td>0</td>\n",
              "      <td>0</td>\n",
              "      <td>0</td>\n",
              "      <td>0</td>\n",
              "      <td>0</td>\n",
              "      <td>0</td>\n",
              "      <td>0</td>\n",
              "      <td>0</td>\n",
              "      <td>0</td>\n",
              "      <td>0</td>\n",
              "      <td>0</td>\n",
              "      <td>0</td>\n",
              "      <td>0</td>\n",
              "      <td>0</td>\n",
              "      <td>0</td>\n",
              "      <td>0</td>\n",
              "      <td>0</td>\n",
              "      <td>1</td>\n",
              "      <td>0</td>\n",
              "      <td>0</td>\n",
              "      <td>0</td>\n",
              "      <td>0</td>\n",
              "      <td>0</td>\n",
              "      <td>0</td>\n",
              "      <td>0</td>\n",
              "      <td>0</td>\n",
              "      <td>0</td>\n",
              "      <td>0</td>\n",
              "      <td>0</td>\n",
              "      <td>0</td>\n",
              "      <td>0</td>\n",
              "      <td>0</td>\n",
              "      <td>...</td>\n",
              "      <td>0</td>\n",
              "      <td>0</td>\n",
              "      <td>0</td>\n",
              "      <td>0</td>\n",
              "      <td>0</td>\n",
              "      <td>0</td>\n",
              "      <td>0</td>\n",
              "      <td>0</td>\n",
              "      <td>0</td>\n",
              "      <td>0</td>\n",
              "      <td>0</td>\n",
              "      <td>0</td>\n",
              "      <td>0</td>\n",
              "      <td>0</td>\n",
              "      <td>0</td>\n",
              "      <td>0</td>\n",
              "      <td>0</td>\n",
              "      <td>0</td>\n",
              "      <td>0</td>\n",
              "      <td>1</td>\n",
              "      <td>0</td>\n",
              "      <td>0</td>\n",
              "      <td>0</td>\n",
              "      <td>0</td>\n",
              "      <td>0</td>\n",
              "      <td>0</td>\n",
              "      <td>0</td>\n",
              "      <td>0</td>\n",
              "      <td>0</td>\n",
              "      <td>0</td>\n",
              "      <td>0</td>\n",
              "      <td>0</td>\n",
              "      <td>0</td>\n",
              "      <td>0</td>\n",
              "      <td>0</td>\n",
              "      <td>0</td>\n",
              "      <td>1</td>\n",
              "      <td>0</td>\n",
              "      <td>0</td>\n",
              "      <td>2</td>\n",
              "    </tr>\n",
              "    <tr>\n",
              "      <th>4</th>\n",
              "      <td>0</td>\n",
              "      <td>0</td>\n",
              "      <td>0</td>\n",
              "      <td>0</td>\n",
              "      <td>0</td>\n",
              "      <td>0</td>\n",
              "      <td>0</td>\n",
              "      <td>0</td>\n",
              "      <td>0</td>\n",
              "      <td>0</td>\n",
              "      <td>0</td>\n",
              "      <td>0</td>\n",
              "      <td>0</td>\n",
              "      <td>0</td>\n",
              "      <td>0</td>\n",
              "      <td>0</td>\n",
              "      <td>0</td>\n",
              "      <td>0</td>\n",
              "      <td>0</td>\n",
              "      <td>0</td>\n",
              "      <td>0</td>\n",
              "      <td>0</td>\n",
              "      <td>0</td>\n",
              "      <td>0</td>\n",
              "      <td>0</td>\n",
              "      <td>0</td>\n",
              "      <td>0</td>\n",
              "      <td>0</td>\n",
              "      <td>0</td>\n",
              "      <td>0</td>\n",
              "      <td>0</td>\n",
              "      <td>0</td>\n",
              "      <td>0</td>\n",
              "      <td>0</td>\n",
              "      <td>0</td>\n",
              "      <td>0</td>\n",
              "      <td>0</td>\n",
              "      <td>0</td>\n",
              "      <td>0</td>\n",
              "      <td>0</td>\n",
              "      <td>...</td>\n",
              "      <td>0</td>\n",
              "      <td>0</td>\n",
              "      <td>0</td>\n",
              "      <td>0</td>\n",
              "      <td>0</td>\n",
              "      <td>0</td>\n",
              "      <td>0</td>\n",
              "      <td>0</td>\n",
              "      <td>0</td>\n",
              "      <td>0</td>\n",
              "      <td>0</td>\n",
              "      <td>0</td>\n",
              "      <td>0</td>\n",
              "      <td>0</td>\n",
              "      <td>0</td>\n",
              "      <td>0</td>\n",
              "      <td>0</td>\n",
              "      <td>0</td>\n",
              "      <td>0</td>\n",
              "      <td>1</td>\n",
              "      <td>0</td>\n",
              "      <td>0</td>\n",
              "      <td>0</td>\n",
              "      <td>0</td>\n",
              "      <td>0</td>\n",
              "      <td>0</td>\n",
              "      <td>0</td>\n",
              "      <td>0</td>\n",
              "      <td>0</td>\n",
              "      <td>0</td>\n",
              "      <td>0</td>\n",
              "      <td>0</td>\n",
              "      <td>0</td>\n",
              "      <td>0</td>\n",
              "      <td>0</td>\n",
              "      <td>0</td>\n",
              "      <td>1</td>\n",
              "      <td>0</td>\n",
              "      <td>0</td>\n",
              "      <td>1</td>\n",
              "    </tr>\n",
              "  </tbody>\n",
              "</table>\n",
              "<p>5 rows × 226 columns</p>\n",
              "</div>"
            ],
            "text/plain": [
              "   Afghanistan  Argentina  ...  Nordic Championship  home_team_result\n",
              "0            0          0  ...                    0                 2\n",
              "1            0          0  ...                    0                 1\n",
              "2            0          0  ...                    0                 1\n",
              "3            0          0  ...                    0                 2\n",
              "4            0          0  ...                    0                 1\n",
              "\n",
              "[5 rows x 226 columns]"
            ]
          },
          "metadata": {
            "tags": []
          },
          "execution_count": 46
        }
      ]
    },
    {
      "cell_type": "markdown",
      "metadata": {
        "id": "7am8-iEF-Obz",
        "colab_type": "text"
      },
      "source": [
        "### Applying classifier models"
      ]
    },
    {
      "cell_type": "code",
      "metadata": {
        "id": "Fun1aYbIXwZ7",
        "colab_type": "code",
        "colab": {
          "base_uri": "https://localhost:8080/",
          "height": 161
        },
        "outputId": "b2f3770e-f667-43af-d472-fed608442df2"
      },
      "source": [
        "# Logistic regression\n",
        "\n",
        "from sklearn.linear_model import LogisticRegression\n",
        "from sklearn.model_selection import train_test_split\n",
        "from sklearn.metrics import accuracy_score\n",
        "\n",
        "\n",
        "x=df.drop('home_team_result' , axis=1)\n",
        "y=df['home_team_result']\n",
        "\n",
        "x_train,x_test,y_train,y_test=train_test_split(x, y, test_size=0.4, random_state=6)\n",
        "\n",
        "reg=LogisticRegression()\n",
        "reg.fit(x_train,y_train)\n",
        "y_pred=reg.predict(x_test)\n",
        "\n",
        "lr_accuracy=round(accuracy_score(y_test,y_pred)*100,2)\n",
        "print('\\nAccuracy(Logistic Regression): ',lr_accuracy,'%\\n')"
      ],
      "execution_count": 47,
      "outputs": [
        {
          "output_type": "stream",
          "text": [
            "\n",
            "Accuracy(Logistic Regression):  89.7 %\n",
            "\n"
          ],
          "name": "stdout"
        },
        {
          "output_type": "stream",
          "text": [
            "/usr/local/lib/python3.6/dist-packages/sklearn/linear_model/logistic.py:432: FutureWarning: Default solver will be changed to 'lbfgs' in 0.22. Specify a solver to silence this warning.\n",
            "  FutureWarning)\n",
            "/usr/local/lib/python3.6/dist-packages/sklearn/linear_model/logistic.py:469: FutureWarning: Default multi_class will be changed to 'auto' in 0.22. Specify the multi_class option to silence this warning.\n",
            "  \"this warning.\", FutureWarning)\n"
          ],
          "name": "stderr"
        }
      ]
    },
    {
      "cell_type": "code",
      "metadata": {
        "id": "gPB9IK6mFgLF",
        "colab_type": "code",
        "colab": {
          "base_uri": "https://localhost:8080/",
          "height": 34
        },
        "outputId": "3c47a28c-dc3b-424e-f551-3319597ea4c8"
      },
      "source": [
        "# K-nearest neighbors\n",
        "\n",
        "from sklearn.neighbors import KNeighborsClassifier\n",
        "from sklearn import metrics\n",
        "\n",
        "x_train,x_test,y_train,y_test=train_test_split(x, y, test_size=0.4, random_state=1)\n",
        "\n",
        "knn=KNeighborsClassifier(n_neighbors=25)\n",
        "knn.fit(x_train,y_train)\n",
        "y_pred=knn.predict(x_test)\n",
        "\n",
        "knn_accuracy=round(accuracy_score(y_test,y_pred)*100,2)\n",
        "print('Accuracy(K-nearest Neighbors): ',knn_accuracy,'%')"
      ],
      "execution_count": 48,
      "outputs": [
        {
          "output_type": "stream",
          "text": [
            "Accuracy(K-nearest Neighbors):  90.3 %\n"
          ],
          "name": "stdout"
        }
      ]
    },
    {
      "cell_type": "code",
      "metadata": {
        "id": "WDwp6ov2AjNi",
        "colab_type": "code",
        "colab": {
          "base_uri": "https://localhost:8080/",
          "height": 34
        },
        "outputId": "7770fc21-737c-4283-e8bf-8324b4e079d3"
      },
      "source": [
        "#  Naive Bayes\n",
        "\n",
        "from sklearn.naive_bayes import GaussianNB\n",
        "clf=GaussianNB()\n",
        "clf.fit(x_train,y_train)\n",
        "y_pred=clf.predict(x_test)\n",
        "\n",
        "nb_accuracy=round(accuracy_score(y_test,y_pred)*100,2)\n",
        "print('Accuracy(Naive Bayes): ',nb_accuracy,'%')\n"
      ],
      "execution_count": 49,
      "outputs": [
        {
          "output_type": "stream",
          "text": [
            "Accuracy(Naive Bayes):  31.6 %\n"
          ],
          "name": "stdout"
        }
      ]
    },
    {
      "cell_type": "code",
      "metadata": {
        "id": "3X7FDZ-6B9Ef",
        "colab_type": "code",
        "colab": {
          "base_uri": "https://localhost:8080/",
          "height": 34
        },
        "outputId": "d2b9b8ea-909c-4a88-ae8b-8c36e5f80734"
      },
      "source": [
        "# Decision tree\n",
        "\n",
        "from sklearn.tree import DecisionTreeClassifier\n",
        "\n",
        "clf_entropy=DecisionTreeClassifier(criterion='entropy', random_state=2)\n",
        "clf_entropy.fit(x_train,y_train)\n",
        "clf_entropy.predict(x_test)\n",
        "\n",
        "dt_accuracy=round(accuracy_score(y_test,y_pred)*100,2)\n",
        "print('Accuracy(Decision Tree): ',dt_accuracy,'%')"
      ],
      "execution_count": 50,
      "outputs": [
        {
          "output_type": "stream",
          "text": [
            "Accuracy(Decision Tree):  31.6 %\n"
          ],
          "name": "stdout"
        }
      ]
    },
    {
      "cell_type": "code",
      "metadata": {
        "id": "Ue8ZOXD4O24x",
        "colab_type": "code",
        "colab": {
          "base_uri": "https://localhost:8080/",
          "height": 34
        },
        "outputId": "712eb680-271c-4b37-a50e-be4b1d018da7"
      },
      "source": [
        "# Random forest\n",
        "\n",
        "from sklearn.ensemble import RandomForestClassifier\n",
        "\n",
        "clf=RandomForestClassifier(n_estimators=100)\n",
        "\n",
        "clf.fit(x_train,y_train)\n",
        "\n",
        "y_pred=clf.predict(x_test)\n",
        "\n",
        "rf_accuracy=round(accuracy_score(y_test,y_pred)*100,2)\n",
        "print('Accuracy(Random Forest): ',rf_accuracy,'%')"
      ],
      "execution_count": 51,
      "outputs": [
        {
          "output_type": "stream",
          "text": [
            "Accuracy(Random Forest):  99.9 %\n"
          ],
          "name": "stdout"
        }
      ]
    },
    {
      "cell_type": "code",
      "metadata": {
        "id": "IpHgvGGFNd2O",
        "colab_type": "code",
        "colab": {
          "base_uri": "https://localhost:8080/",
          "height": 34
        },
        "outputId": "371882b3-d912-4d81-f62a-76196fcd90bc"
      },
      "source": [
        "# Support Vector Machine\n",
        "\n",
        "from sklearn import svm\n",
        "\n",
        "clf=svm.SVC(kernel=\"linear\", C=1000)\n",
        "clf.fit(x_train,y_train)\n",
        "y_pred=clf.predict(x_test)\n",
        "\n",
        "svm_accuracy=round(accuracy_score(y_test,y_pred)*100,2)\n",
        "print('Accuracy(SVM): ',svm_accuracy,'%')"
      ],
      "execution_count": 52,
      "outputs": [
        {
          "output_type": "stream",
          "text": [
            "Accuracy(SVM):  99.7 %\n"
          ],
          "name": "stdout"
        }
      ]
    },
    {
      "cell_type": "markdown",
      "metadata": {
        "id": "5Jsufw0PPX91",
        "colab_type": "text"
      },
      "source": [
        "### Voting Classifier ( Ensemble learning):"
      ]
    },
    {
      "cell_type": "code",
      "metadata": {
        "id": "v1qhwQgTnryT",
        "colab_type": "code",
        "colab": {
          "base_uri": "https://localhost:8080/",
          "height": 232
        },
        "outputId": "d9949edb-f17a-476e-b7c9-beca2f41a97c"
      },
      "source": [
        "from sklearn.svm import SVC\n",
        "from sklearn.linear_model import LogisticRegression\n",
        "from sklearn.neighbors import KNeighborsClassifier\n",
        "from sklearn.tree import DecisionTreeClassifier\n",
        "from sklearn.ensemble import RandomForestClassifier\n",
        "from sklearn.naive_bayes import GaussianNB\n",
        "\n",
        "from sklearn.ensemble import VotingClassifier\n",
        "\n",
        "log_clf = LogisticRegression()\n",
        "rnd_clf = RandomForestClassifier()\n",
        "svm_clf = SVC()\n",
        "nb_clf=GaussianNB()\n",
        "dt_clf=DecisionTreeClassifier(criterion='entropy', random_state=100)\n",
        "knn_clf=KNeighborsClassifier(n_neighbors=25)\n",
        "\n",
        "voting_clf = VotingClassifier(\n",
        "\testimators = [('lr', log_clf), ('rf', rnd_clf), ('svc',svm_clf),('nb',nb_clf),('dt',dt_clf),('knn',knn_clf)],\n",
        "\tvoting = 'hard')\n",
        "voting_clf.fit(x_train, y_train)\n",
        "y_pred=voting_clf.predict(x_test)\n",
        "\n",
        "vot_accuracy=round(accuracy_score(y_test,y_pred)*100,2)\n",
        "print('\\n\\nAccuracy(Voting Classifier): ',vot_accuracy,'%')\n",
        "\n"
      ],
      "execution_count": 53,
      "outputs": [
        {
          "output_type": "stream",
          "text": [
            "/usr/local/lib/python3.6/dist-packages/sklearn/linear_model/logistic.py:432: FutureWarning: Default solver will be changed to 'lbfgs' in 0.22. Specify a solver to silence this warning.\n",
            "  FutureWarning)\n",
            "/usr/local/lib/python3.6/dist-packages/sklearn/linear_model/logistic.py:469: FutureWarning: Default multi_class will be changed to 'auto' in 0.22. Specify the multi_class option to silence this warning.\n",
            "  \"this warning.\", FutureWarning)\n",
            "/usr/local/lib/python3.6/dist-packages/sklearn/ensemble/forest.py:245: FutureWarning: The default value of n_estimators will change from 10 in version 0.20 to 100 in 0.22.\n",
            "  \"10 in version 0.20 to 100 in 0.22.\", FutureWarning)\n",
            "/usr/local/lib/python3.6/dist-packages/sklearn/svm/base.py:193: FutureWarning: The default value of gamma will change from 'auto' to 'scale' in version 0.22 to account better for unscaled features. Set gamma explicitly to 'auto' or 'scale' to avoid this warning.\n",
            "  \"avoid this warning.\", FutureWarning)\n"
          ],
          "name": "stderr"
        },
        {
          "output_type": "stream",
          "text": [
            "\n",
            "\n",
            "Accuracy(Voting Classifier):  98.1 %\n"
          ],
          "name": "stdout"
        }
      ]
    },
    {
      "cell_type": "markdown",
      "metadata": {
        "id": "oGQT4UYjPfBY",
        "colab_type": "text"
      },
      "source": [
        "## Result:"
      ]
    },
    {
      "cell_type": "code",
      "metadata": {
        "id": "J1aewC3lPiM2",
        "colab_type": "code",
        "colab": {
          "base_uri": "https://localhost:8080/",
          "height": 323
        },
        "outputId": "53d9ec01-2cfa-4d90-d883-a0bf8fe2c817"
      },
      "source": [
        "print('-----------Accuracy of prediction--------------')\n",
        "print('\\nLogistic Regression : ',lr_accuracy,'%')\n",
        "print('\\nK-nearest Neighbors : ',knn_accuracy,'%')\n",
        "print('\\nNaive Bayes : ',nb_accuracy,'%')\n",
        "print('\\nDecision Tree : ',dt_accuracy,'%')\n",
        "print('\\nRandom Forest : ',rf_accuracy,'%')\n",
        "print('\\nSupport Vector Machine : ',svm_accuracy,'%')\n",
        "print('\\n\\nFinal Accuracy-')\n",
        "print('\\nVoting Classifier: ',vot_accuracy,'%')"
      ],
      "execution_count": 54,
      "outputs": [
        {
          "output_type": "stream",
          "text": [
            "-----------Accuracy of prediction--------------\n",
            "\n",
            "Logistic Regression :  89.7 %\n",
            "\n",
            "K-nearest Neighbors :  90.3 %\n",
            "\n",
            "Naive Bayes :  31.6 %\n",
            "\n",
            "Decision Tree :  31.6 %\n",
            "\n",
            "Random Forest :  99.9 %\n",
            "\n",
            "Support Vector Machine :  99.7 %\n",
            "\n",
            "\n",
            "Final Accuracy-\n",
            "\n",
            "Voting Classifier:  98.1 %\n"
          ],
          "name": "stdout"
        }
      ]
    },
    {
      "cell_type": "markdown",
      "metadata": {
        "id": "Ur5cqYKkRYtP",
        "colab_type": "text"
      },
      "source": [
        "## Result of Prediction"
      ]
    },
    {
      "cell_type": "code",
      "metadata": {
        "id": "6bulTP41RarP",
        "colab_type": "code",
        "colab": {
          "base_uri": "https://localhost:8080/",
          "height": 173
        },
        "outputId": "8f39d7b3-3aba-4fba-9151-4f1d0fdc3e05"
      },
      "source": [
        "res=['LOSE','WIN','DRAW']\n",
        "print('\\nActual results:\\n')\n",
        "res1=[]\n",
        "for i in y_test:\n",
        "  res1.append(res[i])\n",
        "print(res1)\n",
        "\n",
        "print('\\nPredicted results:\\n')\n",
        "res2=[]\n",
        "for i in y_pred:\n",
        "  res2.append(res[i])\n",
        "print(res2)"
      ],
      "execution_count": 61,
      "outputs": [
        {
          "output_type": "stream",
          "text": [
            "\n",
            "Actual results:\n",
            "\n",
            "['LOSE', 'WIN', 'WIN', 'LOSE', 'WIN', 'LOSE', 'LOSE', 'WIN', 'DRAW', 'LOSE', 'WIN', 'WIN', 'WIN', 'WIN', 'WIN', 'DRAW', 'WIN', 'LOSE', 'WIN', 'WIN', 'DRAW', 'DRAW', 'WIN', 'WIN', 'DRAW', 'WIN', 'WIN', 'LOSE', 'LOSE', 'LOSE', 'WIN', 'WIN', 'WIN', 'WIN', 'WIN', 'DRAW', 'WIN', 'WIN', 'WIN', 'WIN', 'WIN', 'WIN', 'DRAW', 'LOSE', 'WIN', 'LOSE', 'LOSE', 'LOSE', 'LOSE', 'WIN', 'WIN', 'WIN', 'WIN', 'DRAW', 'LOSE', 'LOSE', 'DRAW', 'WIN', 'WIN', 'WIN', 'WIN', 'LOSE', 'LOSE', 'WIN', 'LOSE', 'WIN', 'LOSE', 'LOSE', 'LOSE', 'LOSE', 'LOSE', 'LOSE', 'LOSE', 'LOSE', 'WIN', 'DRAW', 'DRAW', 'DRAW', 'DRAW', 'WIN', 'LOSE', 'LOSE', 'WIN', 'LOSE', 'LOSE', 'LOSE', 'LOSE', 'DRAW', 'WIN', 'DRAW', 'WIN', 'WIN', 'LOSE', 'WIN', 'LOSE', 'LOSE', 'WIN', 'LOSE', 'DRAW', 'WIN', 'WIN', 'DRAW', 'WIN', 'WIN', 'LOSE', 'DRAW', 'WIN', 'WIN', 'WIN', 'WIN', 'WIN', 'LOSE', 'WIN', 'WIN', 'DRAW', 'LOSE', 'WIN', 'DRAW', 'LOSE', 'DRAW', 'DRAW', 'WIN', 'LOSE', 'LOSE', 'LOSE', 'LOSE', 'LOSE', 'WIN', 'WIN', 'DRAW', 'WIN', 'WIN', 'WIN', 'LOSE', 'WIN', 'DRAW', 'WIN', 'DRAW', 'WIN', 'WIN', 'WIN', 'LOSE', 'WIN', 'LOSE', 'LOSE', 'WIN', 'LOSE', 'WIN', 'LOSE', 'LOSE', 'WIN', 'DRAW', 'WIN', 'WIN', 'WIN', 'DRAW', 'LOSE', 'DRAW', 'WIN', 'LOSE', 'LOSE', 'WIN', 'LOSE', 'LOSE', 'WIN', 'LOSE', 'WIN', 'LOSE', 'WIN', 'LOSE', 'WIN', 'LOSE', 'LOSE', 'DRAW', 'WIN', 'WIN', 'WIN', 'WIN', 'LOSE', 'WIN', 'LOSE', 'WIN', 'LOSE', 'WIN', 'WIN', 'LOSE', 'LOSE', 'WIN', 'WIN', 'WIN', 'WIN', 'LOSE', 'DRAW', 'LOSE', 'WIN', 'WIN', 'WIN', 'WIN', 'LOSE', 'WIN', 'DRAW', 'WIN', 'WIN', 'LOSE', 'WIN', 'LOSE', 'LOSE', 'WIN', 'LOSE', 'DRAW', 'WIN', 'WIN', 'WIN', 'WIN', 'DRAW', 'WIN', 'DRAW', 'LOSE', 'WIN', 'DRAW', 'WIN', 'LOSE', 'LOSE', 'WIN', 'WIN', 'LOSE', 'LOSE', 'WIN', 'DRAW', 'LOSE', 'LOSE', 'LOSE', 'WIN', 'LOSE', 'DRAW', 'WIN', 'WIN', 'DRAW', 'LOSE', 'WIN', 'LOSE', 'WIN', 'LOSE', 'LOSE', 'WIN', 'WIN', 'WIN', 'LOSE', 'LOSE', 'WIN', 'LOSE', 'WIN', 'WIN', 'LOSE', 'WIN', 'DRAW', 'WIN', 'WIN', 'LOSE', 'WIN', 'WIN', 'WIN', 'LOSE', 'DRAW', 'DRAW', 'WIN', 'LOSE', 'LOSE', 'WIN', 'WIN', 'WIN', 'LOSE', 'LOSE', 'WIN', 'LOSE', 'WIN', 'DRAW', 'WIN', 'WIN', 'WIN', 'WIN', 'LOSE', 'DRAW', 'LOSE', 'DRAW', 'LOSE', 'LOSE', 'WIN', 'WIN', 'LOSE', 'LOSE', 'WIN', 'DRAW', 'WIN', 'WIN', 'WIN', 'WIN', 'LOSE', 'WIN', 'DRAW', 'WIN', 'DRAW', 'DRAW', 'WIN', 'WIN', 'WIN', 'WIN', 'WIN', 'DRAW', 'WIN', 'LOSE', 'WIN', 'WIN', 'LOSE', 'LOSE', 'LOSE', 'LOSE', 'WIN', 'WIN', 'LOSE', 'WIN', 'WIN', 'LOSE', 'LOSE', 'LOSE', 'DRAW', 'WIN', 'LOSE', 'DRAW', 'WIN', 'WIN', 'WIN', 'WIN', 'WIN', 'WIN', 'WIN', 'DRAW', 'WIN', 'WIN', 'WIN', 'WIN', 'LOSE', 'DRAW', 'LOSE', 'LOSE', 'DRAW', 'LOSE', 'WIN', 'LOSE', 'DRAW', 'WIN', 'DRAW', 'WIN', 'DRAW', 'WIN', 'WIN', 'DRAW', 'DRAW', 'WIN', 'WIN', 'LOSE', 'DRAW', 'LOSE', 'WIN', 'LOSE', 'LOSE', 'LOSE', 'DRAW', 'WIN', 'WIN', 'DRAW', 'WIN', 'WIN', 'WIN', 'WIN', 'LOSE', 'WIN', 'WIN', 'WIN', 'DRAW', 'WIN', 'LOSE', 'LOSE', 'WIN', 'LOSE', 'LOSE', 'WIN', 'WIN', 'WIN', 'LOSE', 'WIN', 'LOSE', 'LOSE', 'WIN', 'WIN', 'DRAW', 'WIN', 'WIN', 'DRAW', 'LOSE', 'WIN', 'LOSE', 'WIN', 'WIN', 'LOSE', 'WIN', 'WIN', 'LOSE', 'LOSE', 'WIN', 'WIN', 'LOSE', 'LOSE', 'WIN', 'LOSE', 'LOSE', 'LOSE', 'WIN', 'WIN', 'WIN', 'WIN', 'DRAW', 'WIN', 'WIN', 'WIN', 'WIN', 'WIN', 'DRAW', 'LOSE', 'LOSE', 'LOSE', 'WIN', 'WIN', 'WIN', 'WIN', 'WIN', 'LOSE', 'WIN', 'DRAW', 'LOSE', 'DRAW', 'WIN', 'WIN', 'LOSE', 'WIN', 'WIN', 'WIN', 'DRAW', 'WIN', 'LOSE', 'DRAW', 'DRAW', 'LOSE', 'WIN', 'LOSE', 'WIN', 'LOSE', 'WIN', 'WIN', 'WIN', 'LOSE', 'WIN', 'WIN', 'WIN', 'WIN', 'WIN', 'WIN', 'WIN', 'LOSE', 'LOSE', 'WIN', 'LOSE', 'LOSE', 'LOSE', 'WIN', 'WIN', 'WIN', 'WIN', 'WIN', 'WIN', 'WIN', 'LOSE', 'DRAW', 'WIN', 'WIN', 'WIN', 'DRAW', 'LOSE', 'DRAW', 'LOSE', 'LOSE', 'LOSE', 'DRAW', 'WIN', 'WIN', 'LOSE', 'DRAW', 'WIN', 'WIN', 'LOSE', 'DRAW', 'WIN', 'DRAW', 'WIN', 'WIN', 'DRAW', 'WIN', 'WIN', 'WIN', 'WIN', 'LOSE', 'DRAW', 'LOSE', 'WIN', 'WIN', 'WIN', 'LOSE', 'WIN', 'WIN', 'WIN', 'LOSE', 'WIN', 'WIN', 'LOSE', 'LOSE', 'LOSE', 'LOSE', 'WIN', 'WIN', 'DRAW', 'LOSE', 'WIN', 'WIN', 'WIN', 'WIN', 'WIN', 'WIN', 'DRAW', 'WIN', 'WIN', 'WIN', 'WIN', 'DRAW', 'WIN', 'WIN', 'LOSE', 'LOSE', 'DRAW', 'WIN', 'DRAW', 'WIN', 'WIN', 'LOSE', 'WIN', 'LOSE', 'WIN', 'WIN', 'LOSE', 'WIN', 'WIN', 'WIN', 'WIN', 'LOSE', 'WIN', 'WIN', 'WIN', 'LOSE', 'WIN', 'WIN', 'WIN', 'DRAW', 'WIN', 'LOSE', 'DRAW', 'DRAW', 'DRAW', 'WIN', 'WIN', 'WIN', 'LOSE', 'LOSE', 'WIN', 'LOSE', 'WIN', 'DRAW', 'WIN', 'LOSE', 'DRAW', 'WIN', 'WIN', 'LOSE', 'WIN', 'LOSE', 'DRAW', 'WIN', 'WIN', 'WIN', 'LOSE', 'DRAW', 'WIN', 'WIN', 'DRAW', 'LOSE', 'WIN', 'WIN', 'WIN', 'LOSE', 'LOSE', 'WIN', 'LOSE', 'WIN', 'WIN', 'WIN', 'DRAW', 'WIN', 'LOSE', 'WIN', 'LOSE', 'WIN', 'DRAW', 'LOSE', 'LOSE', 'WIN', 'DRAW', 'WIN', 'LOSE', 'WIN', 'LOSE', 'WIN', 'WIN', 'WIN', 'DRAW', 'WIN', 'WIN', 'LOSE', 'WIN', 'WIN', 'LOSE', 'WIN', 'LOSE', 'WIN', 'WIN', 'WIN', 'LOSE', 'LOSE', 'DRAW', 'WIN', 'LOSE', 'WIN', 'DRAW', 'WIN', 'LOSE', 'WIN', 'WIN', 'WIN', 'DRAW', 'DRAW', 'DRAW', 'DRAW', 'WIN', 'WIN', 'WIN', 'WIN', 'WIN', 'WIN', 'WIN', 'WIN', 'WIN', 'LOSE', 'WIN', 'LOSE', 'LOSE', 'WIN', 'DRAW', 'WIN', 'LOSE', 'LOSE', 'LOSE', 'LOSE', 'WIN', 'WIN', 'DRAW', 'DRAW', 'WIN', 'WIN', 'WIN', 'WIN', 'LOSE', 'WIN', 'WIN', 'LOSE', 'LOSE', 'WIN', 'WIN', 'DRAW', 'WIN', 'WIN', 'WIN', 'DRAW', 'WIN', 'WIN', 'DRAW', 'LOSE', 'DRAW', 'LOSE', 'WIN', 'LOSE', 'DRAW', 'LOSE', 'WIN', 'WIN', 'WIN', 'DRAW', 'DRAW', 'DRAW', 'WIN', 'WIN', 'DRAW', 'WIN', 'LOSE', 'LOSE', 'LOSE', 'WIN', 'WIN', 'LOSE', 'LOSE', 'WIN', 'WIN', 'WIN', 'LOSE', 'WIN', 'WIN', 'LOSE', 'DRAW', 'WIN', 'WIN', 'LOSE', 'LOSE', 'WIN', 'WIN', 'LOSE', 'LOSE', 'WIN', 'WIN', 'DRAW', 'LOSE', 'DRAW', 'WIN', 'WIN', 'WIN', 'WIN', 'WIN', 'DRAW', 'LOSE', 'WIN', 'DRAW', 'WIN', 'DRAW', 'WIN', 'LOSE', 'LOSE', 'WIN', 'WIN', 'WIN', 'WIN', 'DRAW', 'WIN', 'LOSE', 'LOSE', 'DRAW', 'LOSE', 'LOSE', 'DRAW', 'WIN', 'WIN', 'LOSE', 'DRAW', 'DRAW', 'LOSE', 'LOSE', 'WIN', 'WIN', 'LOSE', 'LOSE', 'LOSE', 'LOSE', 'WIN', 'LOSE', 'DRAW', 'WIN', 'WIN', 'WIN', 'DRAW', 'WIN', 'DRAW', 'WIN', 'WIN', 'WIN', 'WIN', 'LOSE', 'WIN', 'LOSE', 'WIN', 'LOSE', 'WIN', 'LOSE', 'LOSE', 'DRAW', 'WIN', 'WIN', 'WIN', 'LOSE', 'WIN', 'LOSE', 'DRAW', 'WIN', 'WIN', 'DRAW', 'WIN', 'LOSE', 'WIN', 'WIN', 'WIN', 'WIN', 'WIN', 'WIN', 'WIN', 'WIN', 'LOSE', 'WIN', 'WIN', 'WIN', 'LOSE', 'WIN', 'LOSE', 'LOSE', 'LOSE', 'WIN', 'WIN', 'WIN', 'WIN', 'WIN', 'LOSE', 'LOSE', 'LOSE', 'WIN', 'LOSE', 'LOSE', 'LOSE', 'WIN', 'WIN', 'LOSE', 'LOSE', 'LOSE', 'DRAW', 'DRAW', 'WIN', 'WIN', 'LOSE', 'WIN', 'WIN', 'LOSE', 'WIN', 'WIN', 'LOSE', 'DRAW', 'WIN', 'WIN', 'WIN', 'WIN', 'DRAW', 'DRAW', 'WIN', 'DRAW', 'LOSE', 'DRAW', 'LOSE', 'WIN', 'WIN', 'WIN', 'WIN', 'WIN', 'WIN', 'DRAW', 'LOSE', 'WIN', 'LOSE', 'WIN', 'LOSE', 'WIN', 'WIN', 'LOSE', 'LOSE', 'WIN', 'WIN', 'DRAW', 'WIN', 'LOSE', 'WIN', 'LOSE', 'LOSE', 'DRAW', 'WIN', 'WIN', 'DRAW', 'WIN', 'WIN', 'DRAW', 'LOSE', 'WIN', 'WIN', 'WIN', 'WIN', 'DRAW', 'LOSE', 'LOSE', 'WIN', 'LOSE', 'LOSE', 'DRAW', 'DRAW', 'DRAW', 'LOSE', 'WIN', 'LOSE', 'DRAW', 'WIN', 'WIN', 'WIN', 'WIN', 'WIN', 'LOSE', 'DRAW', 'LOSE', 'WIN', 'WIN', 'DRAW', 'WIN', 'LOSE', 'WIN', 'WIN', 'WIN', 'LOSE', 'LOSE', 'WIN', 'WIN', 'WIN', 'LOSE', 'LOSE', 'DRAW', 'LOSE', 'WIN', 'WIN', 'WIN', 'WIN', 'WIN', 'WIN', 'DRAW', 'WIN', 'WIN', 'DRAW', 'WIN', 'LOSE', 'LOSE', 'WIN', 'DRAW', 'WIN', 'WIN', 'WIN', 'WIN', 'WIN', 'LOSE', 'WIN', 'WIN', 'WIN', 'WIN', 'DRAW', 'WIN', 'LOSE', 'WIN', 'WIN', 'LOSE', 'WIN', 'WIN', 'WIN', 'LOSE', 'LOSE', 'LOSE', 'WIN', 'WIN', 'LOSE', 'WIN', 'WIN', 'WIN', 'WIN', 'WIN', 'WIN', 'DRAW', 'DRAW', 'LOSE']\n",
            "\n",
            "Predicted results:\n",
            "\n",
            "['LOSE', 'WIN', 'WIN', 'LOSE', 'WIN', 'LOSE', 'LOSE', 'WIN', 'DRAW', 'LOSE', 'WIN', 'WIN', 'WIN', 'WIN', 'WIN', 'DRAW', 'WIN', 'LOSE', 'WIN', 'WIN', 'DRAW', 'DRAW', 'WIN', 'WIN', 'DRAW', 'WIN', 'WIN', 'LOSE', 'LOSE', 'LOSE', 'WIN', 'WIN', 'WIN', 'WIN', 'WIN', 'DRAW', 'WIN', 'WIN', 'WIN', 'WIN', 'WIN', 'WIN', 'DRAW', 'LOSE', 'WIN', 'LOSE', 'LOSE', 'LOSE', 'LOSE', 'WIN', 'WIN', 'WIN', 'WIN', 'DRAW', 'LOSE', 'LOSE', 'DRAW', 'WIN', 'WIN', 'WIN', 'WIN', 'LOSE', 'LOSE', 'WIN', 'LOSE', 'WIN', 'LOSE', 'LOSE', 'LOSE', 'LOSE', 'LOSE', 'LOSE', 'LOSE', 'LOSE', 'WIN', 'DRAW', 'DRAW', 'DRAW', 'DRAW', 'WIN', 'LOSE', 'LOSE', 'WIN', 'LOSE', 'LOSE', 'LOSE', 'LOSE', 'DRAW', 'WIN', 'DRAW', 'WIN', 'WIN', 'LOSE', 'LOSE', 'LOSE', 'LOSE', 'WIN', 'LOSE', 'DRAW', 'WIN', 'LOSE', 'DRAW', 'WIN', 'WIN', 'LOSE', 'DRAW', 'WIN', 'WIN', 'WIN', 'WIN', 'WIN', 'LOSE', 'WIN', 'WIN', 'DRAW', 'LOSE', 'WIN', 'DRAW', 'LOSE', 'DRAW', 'DRAW', 'WIN', 'LOSE', 'LOSE', 'LOSE', 'LOSE', 'LOSE', 'WIN', 'WIN', 'DRAW', 'WIN', 'WIN', 'WIN', 'LOSE', 'WIN', 'DRAW', 'WIN', 'DRAW', 'WIN', 'WIN', 'WIN', 'LOSE', 'WIN', 'LOSE', 'LOSE', 'WIN', 'LOSE', 'WIN', 'LOSE', 'LOSE', 'WIN', 'DRAW', 'WIN', 'WIN', 'WIN', 'DRAW', 'LOSE', 'DRAW', 'WIN', 'LOSE', 'LOSE', 'WIN', 'LOSE', 'LOSE', 'WIN', 'LOSE', 'WIN', 'LOSE', 'WIN', 'LOSE', 'WIN', 'LOSE', 'LOSE', 'DRAW', 'WIN', 'WIN', 'LOSE', 'WIN', 'LOSE', 'WIN', 'LOSE', 'WIN', 'LOSE', 'WIN', 'WIN', 'LOSE', 'LOSE', 'WIN', 'WIN', 'WIN', 'WIN', 'LOSE', 'DRAW', 'LOSE', 'WIN', 'WIN', 'WIN', 'WIN', 'LOSE', 'WIN', 'DRAW', 'WIN', 'WIN', 'LOSE', 'WIN', 'LOSE', 'LOSE', 'WIN', 'LOSE', 'DRAW', 'WIN', 'WIN', 'WIN', 'WIN', 'DRAW', 'WIN', 'DRAW', 'LOSE', 'WIN', 'DRAW', 'WIN', 'LOSE', 'LOSE', 'WIN', 'WIN', 'LOSE', 'LOSE', 'WIN', 'DRAW', 'LOSE', 'LOSE', 'LOSE', 'WIN', 'LOSE', 'DRAW', 'WIN', 'WIN', 'DRAW', 'LOSE', 'WIN', 'LOSE', 'LOSE', 'LOSE', 'LOSE', 'WIN', 'WIN', 'WIN', 'LOSE', 'LOSE', 'WIN', 'LOSE', 'WIN', 'WIN', 'LOSE', 'WIN', 'WIN', 'WIN', 'WIN', 'LOSE', 'WIN', 'WIN', 'WIN', 'LOSE', 'DRAW', 'DRAW', 'WIN', 'LOSE', 'LOSE', 'WIN', 'WIN', 'WIN', 'LOSE', 'LOSE', 'WIN', 'LOSE', 'WIN', 'DRAW', 'WIN', 'WIN', 'WIN', 'WIN', 'LOSE', 'DRAW', 'LOSE', 'DRAW', 'LOSE', 'LOSE', 'WIN', 'WIN', 'LOSE', 'LOSE', 'WIN', 'DRAW', 'WIN', 'WIN', 'WIN', 'WIN', 'LOSE', 'WIN', 'DRAW', 'WIN', 'DRAW', 'DRAW', 'WIN', 'WIN', 'WIN', 'WIN', 'WIN', 'DRAW', 'WIN', 'LOSE', 'WIN', 'WIN', 'LOSE', 'LOSE', 'LOSE', 'LOSE', 'WIN', 'WIN', 'LOSE', 'WIN', 'WIN', 'LOSE', 'LOSE', 'LOSE', 'DRAW', 'WIN', 'LOSE', 'DRAW', 'WIN', 'WIN', 'WIN', 'WIN', 'WIN', 'WIN', 'WIN', 'DRAW', 'WIN', 'WIN', 'WIN', 'WIN', 'LOSE', 'WIN', 'LOSE', 'LOSE', 'DRAW', 'LOSE', 'WIN', 'LOSE', 'DRAW', 'WIN', 'DRAW', 'WIN', 'DRAW', 'WIN', 'WIN', 'DRAW', 'DRAW', 'WIN', 'WIN', 'LOSE', 'DRAW', 'LOSE', 'WIN', 'LOSE', 'LOSE', 'LOSE', 'WIN', 'WIN', 'WIN', 'DRAW', 'WIN', 'WIN', 'WIN', 'WIN', 'LOSE', 'WIN', 'WIN', 'WIN', 'DRAW', 'WIN', 'LOSE', 'LOSE', 'WIN', 'LOSE', 'LOSE', 'WIN', 'WIN', 'WIN', 'LOSE', 'WIN', 'LOSE', 'LOSE', 'WIN', 'WIN', 'DRAW', 'WIN', 'WIN', 'DRAW', 'LOSE', 'WIN', 'LOSE', 'WIN', 'WIN', 'LOSE', 'WIN', 'WIN', 'LOSE', 'LOSE', 'WIN', 'WIN', 'LOSE', 'LOSE', 'WIN', 'LOSE', 'LOSE', 'LOSE', 'WIN', 'WIN', 'WIN', 'WIN', 'DRAW', 'WIN', 'WIN', 'WIN', 'WIN', 'WIN', 'DRAW', 'LOSE', 'LOSE', 'LOSE', 'WIN', 'WIN', 'WIN', 'WIN', 'WIN', 'LOSE', 'WIN', 'DRAW', 'LOSE', 'DRAW', 'WIN', 'WIN', 'LOSE', 'WIN', 'WIN', 'WIN', 'DRAW', 'WIN', 'LOSE', 'DRAW', 'DRAW', 'LOSE', 'WIN', 'LOSE', 'WIN', 'LOSE', 'WIN', 'WIN', 'WIN', 'LOSE', 'WIN', 'WIN', 'WIN', 'WIN', 'WIN', 'WIN', 'WIN', 'LOSE', 'LOSE', 'WIN', 'LOSE', 'LOSE', 'LOSE', 'WIN', 'WIN', 'WIN', 'WIN', 'WIN', 'WIN', 'WIN', 'LOSE', 'DRAW', 'WIN', 'WIN', 'WIN', 'DRAW', 'LOSE', 'DRAW', 'LOSE', 'LOSE', 'LOSE', 'DRAW', 'WIN', 'WIN', 'LOSE', 'DRAW', 'WIN', 'WIN', 'LOSE', 'DRAW', 'WIN', 'DRAW', 'WIN', 'WIN', 'DRAW', 'WIN', 'WIN', 'WIN', 'WIN', 'LOSE', 'DRAW', 'LOSE', 'WIN', 'WIN', 'WIN', 'LOSE', 'WIN', 'WIN', 'WIN', 'LOSE', 'WIN', 'WIN', 'LOSE', 'LOSE', 'LOSE', 'LOSE', 'WIN', 'WIN', 'DRAW', 'LOSE', 'WIN', 'WIN', 'WIN', 'WIN', 'WIN', 'WIN', 'DRAW', 'WIN', 'WIN', 'WIN', 'WIN', 'WIN', 'WIN', 'WIN', 'LOSE', 'LOSE', 'WIN', 'WIN', 'WIN', 'WIN', 'WIN', 'LOSE', 'WIN', 'LOSE', 'WIN', 'WIN', 'LOSE', 'WIN', 'WIN', 'WIN', 'WIN', 'LOSE', 'WIN', 'WIN', 'WIN', 'LOSE', 'WIN', 'WIN', 'WIN', 'DRAW', 'WIN', 'LOSE', 'DRAW', 'DRAW', 'DRAW', 'WIN', 'WIN', 'WIN', 'LOSE', 'LOSE', 'WIN', 'LOSE', 'WIN', 'DRAW', 'WIN', 'LOSE', 'DRAW', 'WIN', 'WIN', 'LOSE', 'WIN', 'LOSE', 'DRAW', 'WIN', 'WIN', 'WIN', 'LOSE', 'WIN', 'WIN', 'WIN', 'DRAW', 'LOSE', 'WIN', 'WIN', 'WIN', 'LOSE', 'LOSE', 'WIN', 'LOSE', 'WIN', 'WIN', 'WIN', 'DRAW', 'WIN', 'LOSE', 'WIN', 'LOSE', 'WIN', 'LOSE', 'LOSE', 'LOSE', 'WIN', 'DRAW', 'WIN', 'LOSE', 'WIN', 'LOSE', 'WIN', 'WIN', 'WIN', 'DRAW', 'WIN', 'WIN', 'LOSE', 'WIN', 'WIN', 'LOSE', 'WIN', 'LOSE', 'WIN', 'WIN', 'WIN', 'LOSE', 'LOSE', 'LOSE', 'WIN', 'LOSE', 'WIN', 'DRAW', 'WIN', 'LOSE', 'WIN', 'WIN', 'WIN', 'DRAW', 'DRAW', 'DRAW', 'DRAW', 'WIN', 'WIN', 'WIN', 'WIN', 'WIN', 'WIN', 'WIN', 'WIN', 'WIN', 'LOSE', 'WIN', 'LOSE', 'WIN', 'WIN', 'WIN', 'WIN', 'LOSE', 'LOSE', 'LOSE', 'LOSE', 'WIN', 'WIN', 'DRAW', 'DRAW', 'WIN', 'WIN', 'WIN', 'WIN', 'LOSE', 'WIN', 'WIN', 'LOSE', 'LOSE', 'WIN', 'WIN', 'DRAW', 'WIN', 'WIN', 'WIN', 'DRAW', 'WIN', 'WIN', 'DRAW', 'LOSE', 'DRAW', 'LOSE', 'WIN', 'LOSE', 'DRAW', 'LOSE', 'WIN', 'WIN', 'WIN', 'DRAW', 'DRAW', 'DRAW', 'WIN', 'WIN', 'WIN', 'WIN', 'LOSE', 'LOSE', 'LOSE', 'WIN', 'WIN', 'LOSE', 'LOSE', 'WIN', 'WIN', 'WIN', 'LOSE', 'WIN', 'WIN', 'LOSE', 'WIN', 'WIN', 'WIN', 'LOSE', 'LOSE', 'WIN', 'WIN', 'LOSE', 'LOSE', 'WIN', 'WIN', 'DRAW', 'LOSE', 'DRAW', 'WIN', 'WIN', 'WIN', 'WIN', 'WIN', 'DRAW', 'LOSE', 'WIN', 'DRAW', 'WIN', 'DRAW', 'WIN', 'LOSE', 'LOSE', 'WIN', 'WIN', 'WIN', 'WIN', 'DRAW', 'WIN', 'LOSE', 'LOSE', 'DRAW', 'LOSE', 'LOSE', 'DRAW', 'WIN', 'WIN', 'LOSE', 'DRAW', 'DRAW', 'LOSE', 'LOSE', 'WIN', 'WIN', 'LOSE', 'LOSE', 'LOSE', 'LOSE', 'WIN', 'LOSE', 'DRAW', 'WIN', 'WIN', 'WIN', 'DRAW', 'WIN', 'DRAW', 'WIN', 'WIN', 'WIN', 'WIN', 'LOSE', 'LOSE', 'LOSE', 'WIN', 'LOSE', 'WIN', 'LOSE', 'LOSE', 'DRAW', 'WIN', 'WIN', 'WIN', 'LOSE', 'WIN', 'LOSE', 'DRAW', 'WIN', 'WIN', 'DRAW', 'WIN', 'LOSE', 'WIN', 'WIN', 'WIN', 'WIN', 'WIN', 'WIN', 'WIN', 'WIN', 'LOSE', 'WIN', 'WIN', 'WIN', 'LOSE', 'WIN', 'LOSE', 'LOSE', 'LOSE', 'WIN', 'WIN', 'WIN', 'WIN', 'WIN', 'LOSE', 'LOSE', 'LOSE', 'WIN', 'LOSE', 'LOSE', 'LOSE', 'WIN', 'WIN', 'LOSE', 'LOSE', 'LOSE', 'DRAW', 'DRAW', 'WIN', 'WIN', 'LOSE', 'WIN', 'WIN', 'LOSE', 'WIN', 'WIN', 'LOSE', 'DRAW', 'WIN', 'WIN', 'WIN', 'WIN', 'DRAW', 'DRAW', 'WIN', 'DRAW', 'LOSE', 'DRAW', 'LOSE', 'WIN', 'WIN', 'WIN', 'WIN', 'WIN', 'WIN', 'DRAW', 'LOSE', 'WIN', 'LOSE', 'WIN', 'LOSE', 'WIN', 'WIN', 'LOSE', 'LOSE', 'WIN', 'WIN', 'DRAW', 'WIN', 'LOSE', 'WIN', 'LOSE', 'LOSE', 'DRAW', 'WIN', 'WIN', 'DRAW', 'WIN', 'WIN', 'DRAW', 'LOSE', 'WIN', 'WIN', 'WIN', 'WIN', 'DRAW', 'LOSE', 'LOSE', 'WIN', 'LOSE', 'LOSE', 'DRAW', 'DRAW', 'DRAW', 'LOSE', 'WIN', 'LOSE', 'DRAW', 'WIN', 'WIN', 'WIN', 'WIN', 'WIN', 'LOSE', 'DRAW', 'LOSE', 'WIN', 'WIN', 'DRAW', 'WIN', 'LOSE', 'WIN', 'WIN', 'WIN', 'LOSE', 'LOSE', 'WIN', 'WIN', 'WIN', 'LOSE', 'LOSE', 'DRAW', 'LOSE', 'WIN', 'WIN', 'WIN', 'WIN', 'WIN', 'WIN', 'DRAW', 'WIN', 'WIN', 'DRAW', 'WIN', 'LOSE', 'LOSE', 'WIN', 'DRAW', 'WIN', 'WIN', 'WIN', 'WIN', 'WIN', 'LOSE', 'WIN', 'WIN', 'WIN', 'WIN', 'WIN', 'WIN', 'LOSE', 'WIN', 'WIN', 'LOSE', 'WIN', 'WIN', 'WIN', 'LOSE', 'LOSE', 'LOSE', 'WIN', 'WIN', 'LOSE', 'WIN', 'WIN', 'WIN', 'WIN', 'WIN', 'WIN', 'DRAW', 'DRAW', 'LOSE']\n"
          ],
          "name": "stdout"
        }
      ]
    },
    {
      "cell_type": "code",
      "metadata": {
        "id": "k_DwBGyIV-QM",
        "colab_type": "code",
        "colab": {
          "base_uri": "https://localhost:8080/",
          "height": 724
        },
        "outputId": "a67abf5f-8c0b-4ced-b074-202dd3c18039"
      },
      "source": [
        "import seaborn as sb\n",
        "import matplotlib.pyplot as plt\n",
        "%matplotlib inline\n",
        "\n",
        "plt.figure(figsize=(24,12))\n",
        "sb.kdeplot(y_test)\n",
        "sb.kdeplot(y_pred)\n",
        "sb.despine()\n",
        "plt.text(2.05, 0.85,'Orange: Predicted data\\nBlue: Acutal data', fontsize=19)\n",
        "plt.grid()\n",
        "plt.show()"
      ],
      "execution_count": 95,
      "outputs": [
        {
          "output_type": "display_data",
          "data": {
            "image/png": "[encoded data removed]",
            "text/plain": [
              "<Figure size 1728x864 with 1 Axes>"
            ]
          },
          "metadata": {
            "tags": []
          }
        }
      ]
    }
  ]
}